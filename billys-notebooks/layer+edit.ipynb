{
  "nbformat": 4,
  "nbformat_minor": 0,
  "metadata": {
    "colab": {
      "name": "GAN-Bau-testing-IoU-layer+edit.ipynb",
      "provenance": [],
      "collapsed_sections": [],
      "machine_shape": "hm"
    },
    "kernelspec": {
      "name": "python3",
      "display_name": "Python 3"
    },
    "language_info": {
      "name": "python"
    },
    "gpuClass": "standard",
    "accelerator": "GPU"
  },
  "cells": [
    {
      "cell_type": "code",
      "source": [
        "pip install git+https://github.com/billybraith17/billiespnet"
      ],
      "metadata": {
        "id": "_CzJ2t3J0d45",
        "colab": {
          "base_uri": "https://localhost:8080/"
        },
        "outputId": "3775686f-0fde-4484-fa90-967613fc321c"
      },
      "execution_count": null,
      "outputs": [
        {
          "output_type": "stream",
          "name": "stdout",
          "text": [
            "Looking in indexes: https://pypi.org/simple, https://us-python.pkg.dev/colab-wheels/public/simple/\n",
            "Collecting git+https://github.com/billybraith17/billiespnet\n",
            "  Cloning https://github.com/billybraith17/billiespnet to /tmp/pip-req-build-zl3kat6x\n",
            "  Running command git clone -q https://github.com/billybraith17/billiespnet /tmp/pip-req-build-zl3kat6x\n",
            "  Running command git submodule update --init --recursive -q\n",
            "Requirement already satisfied: setuptools>=38.5.1 in /usr/local/lib/python3.7/dist-packages (from espnet==202205) (57.4.0)\n",
            "Requirement already satisfied: packaging in /usr/local/lib/python3.7/dist-packages (from espnet==202205) (21.3)\n",
            "Collecting configargparse>=1.2.1\n",
            "  Downloading ConfigArgParse-1.5.3-py3-none-any.whl (20 kB)\n",
            "Requirement already satisfied: typeguard>=2.7.0 in /usr/local/lib/python3.7/dist-packages (from espnet==202205) (2.7.1)\n",
            "Collecting humanfriendly\n",
            "  Downloading humanfriendly-10.0-py2.py3-none-any.whl (86 kB)\n",
            "\u001b[K     |████████████████████████████████| 86 kB 5.0 MB/s \n",
            "\u001b[?25hRequirement already satisfied: scipy>=1.4.1 in /usr/local/lib/python3.7/dist-packages (from espnet==202205) (1.7.3)\n",
            "Requirement already satisfied: filelock in /usr/local/lib/python3.7/dist-packages (from espnet==202205) (3.8.0)\n",
            "Requirement already satisfied: librosa>=0.8.0 in /usr/local/lib/python3.7/dist-packages (from espnet==202205) (0.8.1)\n",
            "Collecting jamo==0.4.1\n",
            "  Downloading jamo-0.4.1-py3-none-any.whl (9.5 kB)\n",
            "Requirement already satisfied: PyYAML>=5.1.2 in /usr/local/lib/python3.7/dist-packages (from espnet==202205) (6.0)\n",
            "Requirement already satisfied: soundfile>=0.10.2 in /usr/local/lib/python3.7/dist-packages (from espnet==202205) (0.10.3.post1)\n",
            "Requirement already satisfied: h5py>=2.10.0 in /usr/local/lib/python3.7/dist-packages (from espnet==202205) (3.1.0)\n",
            "Collecting kaldiio>=2.17.0\n",
            "  Downloading kaldiio-2.17.2.tar.gz (24 kB)\n",
            "Requirement already satisfied: torch>=1.3.0 in /usr/local/lib/python3.7/dist-packages (from espnet==202205) (1.12.1+cu113)\n",
            "Collecting torch_complex\n",
            "  Downloading torch_complex-0.4.3-py3-none-any.whl (9.1 kB)\n",
            "Requirement already satisfied: nltk>=3.4.5 in /usr/local/lib/python3.7/dist-packages (from espnet==202205) (3.7)\n",
            "Requirement already satisfied: protobuf<=3.20.1 in /usr/local/lib/python3.7/dist-packages (from espnet==202205) (3.17.3)\n",
            "Collecting sentencepiece\n",
            "  Downloading sentencepiece-0.1.97-cp37-cp37m-manylinux_2_17_x86_64.manylinux2014_x86_64.whl (1.3 MB)\n",
            "\u001b[K     |████████████████████████████████| 1.3 MB 66.4 MB/s \n",
            "\u001b[?25hCollecting ctc-segmentation<1.8,>=1.6.6\n",
            "  Downloading ctc_segmentation-1.7.3.tar.gz (73 kB)\n",
            "\u001b[K     |████████████████████████████████| 73 kB 2.2 MB/s \n",
            "\u001b[?25h  Installing build dependencies ... \u001b[?25l\u001b[?25hdone\n",
            "  Getting requirements to build wheel ... \u001b[?25l\u001b[?25hdone\n",
            "    Preparing wheel metadata ... \u001b[?25l\u001b[?25hdone\n",
            "Collecting pyworld>=0.2.10\n",
            "  Downloading pyworld-0.3.0.tar.gz (212 kB)\n",
            "\u001b[K     |████████████████████████████████| 212 kB 82.9 MB/s \n",
            "\u001b[?25h  Installing build dependencies ... \u001b[?25l\u001b[?25hdone\n",
            "  Getting requirements to build wheel ... \u001b[?25l\u001b[?25hdone\n",
            "    Preparing wheel metadata ... \u001b[?25l\u001b[?25hdone\n",
            "Collecting pypinyin<=0.44.0\n",
            "  Downloading pypinyin-0.44.0-py2.py3-none-any.whl (1.3 MB)\n",
            "\u001b[K     |████████████████████████████████| 1.3 MB 61.9 MB/s \n",
            "\u001b[?25hCollecting espnet_tts_frontend\n",
            "  Downloading espnet_tts_frontend-0.0.3-py3-none-any.whl (11 kB)\n",
            "Collecting ci_sdr\n",
            "  Downloading ci_sdr-0.0.0.tar.gz (15 kB)\n",
            "Collecting pytorch_wpe\n",
            "  Downloading pytorch_wpe-0.0.1-py3-none-any.whl (8.1 kB)\n",
            "Collecting fast-bss-eval==0.1.3\n",
            "  Downloading fast_bss_eval-0.1.3.tar.gz (33 kB)\n",
            "Requirement already satisfied: numpy in /usr/local/lib/python3.7/dist-packages (from fast-bss-eval==0.1.3->espnet==202205) (1.21.6)\n",
            "Requirement already satisfied: Cython in /usr/local/lib/python3.7/dist-packages (from ctc-segmentation<1.8,>=1.6.6->espnet==202205) (0.29.32)\n",
            "Requirement already satisfied: cached-property in /usr/local/lib/python3.7/dist-packages (from h5py>=2.10.0->espnet==202205) (1.5.2)\n",
            "Requirement already satisfied: joblib>=0.14 in /usr/local/lib/python3.7/dist-packages (from librosa>=0.8.0->espnet==202205) (1.1.0)\n",
            "Requirement already satisfied: audioread>=2.0.0 in /usr/local/lib/python3.7/dist-packages (from librosa>=0.8.0->espnet==202205) (3.0.0)\n",
            "Requirement already satisfied: pooch>=1.0 in /usr/local/lib/python3.7/dist-packages (from librosa>=0.8.0->espnet==202205) (1.6.0)\n",
            "Requirement already satisfied: numba>=0.43.0 in /usr/local/lib/python3.7/dist-packages (from librosa>=0.8.0->espnet==202205) (0.56.0)\n",
            "Requirement already satisfied: scikit-learn!=0.19.0,>=0.14.0 in /usr/local/lib/python3.7/dist-packages (from librosa>=0.8.0->espnet==202205) (1.0.2)\n",
            "Requirement already satisfied: resampy>=0.2.2 in /usr/local/lib/python3.7/dist-packages (from librosa>=0.8.0->espnet==202205) (0.4.0)\n",
            "Requirement already satisfied: decorator>=3.0.0 in /usr/local/lib/python3.7/dist-packages (from librosa>=0.8.0->espnet==202205) (4.4.2)\n",
            "Requirement already satisfied: tqdm in /usr/local/lib/python3.7/dist-packages (from nltk>=3.4.5->espnet==202205) (4.64.0)\n",
            "Requirement already satisfied: regex>=2021.8.3 in /usr/local/lib/python3.7/dist-packages (from nltk>=3.4.5->espnet==202205) (2022.6.2)\n",
            "Requirement already satisfied: click in /usr/local/lib/python3.7/dist-packages (from nltk>=3.4.5->espnet==202205) (7.1.2)\n",
            "Requirement already satisfied: importlib-metadata in /usr/local/lib/python3.7/dist-packages (from numba>=0.43.0->librosa>=0.8.0->espnet==202205) (4.12.0)\n",
            "Requirement already satisfied: llvmlite<0.40,>=0.39.0dev0 in /usr/local/lib/python3.7/dist-packages (from numba>=0.43.0->librosa>=0.8.0->espnet==202205) (0.39.0)\n",
            "Requirement already satisfied: pyparsing!=3.0.5,>=2.0.2 in /usr/local/lib/python3.7/dist-packages (from packaging->espnet==202205) (3.0.9)\n",
            "Requirement already satisfied: appdirs>=1.3.0 in /usr/local/lib/python3.7/dist-packages (from pooch>=1.0->librosa>=0.8.0->espnet==202205) (1.4.4)\n",
            "Requirement already satisfied: requests>=2.19.0 in /usr/local/lib/python3.7/dist-packages (from pooch>=1.0->librosa>=0.8.0->espnet==202205) (2.23.0)\n",
            "Requirement already satisfied: six>=1.9 in /usr/local/lib/python3.7/dist-packages (from protobuf<=3.20.1->espnet==202205) (1.15.0)\n",
            "Requirement already satisfied: certifi>=2017.4.17 in /usr/local/lib/python3.7/dist-packages (from requests>=2.19.0->pooch>=1.0->librosa>=0.8.0->espnet==202205) (2022.6.15)\n",
            "Requirement already satisfied: urllib3!=1.25.0,!=1.25.1,<1.26,>=1.21.1 in /usr/local/lib/python3.7/dist-packages (from requests>=2.19.0->pooch>=1.0->librosa>=0.8.0->espnet==202205) (1.24.3)\n",
            "Requirement already satisfied: idna<3,>=2.5 in /usr/local/lib/python3.7/dist-packages (from requests>=2.19.0->pooch>=1.0->librosa>=0.8.0->espnet==202205) (2.10)\n",
            "Requirement already satisfied: chardet<4,>=3.0.2 in /usr/local/lib/python3.7/dist-packages (from requests>=2.19.0->pooch>=1.0->librosa>=0.8.0->espnet==202205) (3.0.4)\n",
            "Requirement already satisfied: threadpoolctl>=2.0.0 in /usr/local/lib/python3.7/dist-packages (from scikit-learn!=0.19.0,>=0.14.0->librosa>=0.8.0->espnet==202205) (3.1.0)\n",
            "Requirement already satisfied: cffi>=1.0 in /usr/local/lib/python3.7/dist-packages (from soundfile>=0.10.2->espnet==202205) (1.15.1)\n",
            "Requirement already satisfied: pycparser in /usr/local/lib/python3.7/dist-packages (from cffi>=1.0->soundfile>=0.10.2->espnet==202205) (2.21)\n",
            "Requirement already satisfied: typing-extensions in /usr/local/lib/python3.7/dist-packages (from torch>=1.3.0->espnet==202205) (4.1.1)\n",
            "Collecting einops\n",
            "  Downloading einops-0.4.1-py3-none-any.whl (28 kB)\n",
            "Requirement already satisfied: inflect>=1.0.0 in /usr/local/lib/python3.7/dist-packages (from espnet_tts_frontend->espnet==202205) (2.1.0)\n",
            "Collecting unidecode>=1.0.22\n",
            "  Downloading Unidecode-1.3.4-py3-none-any.whl (235 kB)\n",
            "\u001b[K     |████████████████████████████████| 235 kB 85.7 MB/s \n",
            "\u001b[?25hCollecting jaconv\n",
            "  Downloading jaconv-0.3.tar.gz (15 kB)\n",
            "Collecting g2p-en\n",
            "  Downloading g2p_en-2.1.0-py3-none-any.whl (3.1 MB)\n",
            "\u001b[K     |████████████████████████████████| 3.1 MB 49.5 MB/s \n",
            "\u001b[?25hCollecting distance>=0.1.3\n",
            "  Downloading Distance-0.1.3.tar.gz (180 kB)\n",
            "\u001b[K     |████████████████████████████████| 180 kB 73.5 MB/s \n",
            "\u001b[?25hRequirement already satisfied: zipp>=0.5 in /usr/local/lib/python3.7/dist-packages (from importlib-metadata->numba>=0.43.0->librosa>=0.8.0->espnet==202205) (3.8.1)\n",
            "Building wheels for collected packages: espnet, fast-bss-eval, ctc-segmentation, kaldiio, pyworld, ci-sdr, distance, jaconv\n",
            "  Building wheel for espnet (setup.py) ... \u001b[?25l\u001b[?25hdone\n",
            "  Created wheel for espnet: filename=espnet-202205-py3-none-any.whl size=1089462 sha256=2b6a4ddee509d85583653d2b26350b0a77e22663eff0e7f44ecd9dbf5134ad1a\n",
            "  Stored in directory: /tmp/pip-ephem-wheel-cache-cc5g2m32/wheels/da/3c/cd/c9ce49d39e91d2dd024f37100d25b8baa41d1bdac6c844a86c\n",
            "  Building wheel for fast-bss-eval (setup.py) ... \u001b[?25l\u001b[?25hdone\n",
            "  Created wheel for fast-bss-eval: filename=fast_bss_eval-0.1.3-py3-none-any.whl size=44261 sha256=5fcc9771895b23a0af205dda64998af8b611a8cf7d74a81e9f0f14b7422f5068\n",
            "  Stored in directory: /root/.cache/pip/wheels/45/38/82/6507c8f1765284b45fac38f334621435b633499f27c813e3f1\n",
            "  Building wheel for ctc-segmentation (PEP 517) ... \u001b[?25l\u001b[?25hdone\n",
            "  Created wheel for ctc-segmentation: filename=ctc_segmentation-1.7.3-cp37-cp37m-linux_x86_64.whl size=116118 sha256=73d3f30b8bd645cc278bc001a6b733fb2167c6c871bfe63dc3e4d7bfd267116c\n",
            "  Stored in directory: /root/.cache/pip/wheels/ea/75/dd/20a877c8ca5efbf5f19d9ff1cfd5c7e0934f55b70aec99f795\n",
            "  Building wheel for kaldiio (setup.py) ... \u001b[?25l\u001b[?25hdone\n",
            "  Created wheel for kaldiio: filename=kaldiio-2.17.2-py3-none-any.whl size=24471 sha256=fc76438f1177a24c53fc21268b15ec5d39a6de7e1471cbcf4b2e97e30a76e03e\n",
            "  Stored in directory: /root/.cache/pip/wheels/04/07/e8/45641287c59bf6ce41e22259f8680b521c31e6306cb88392ac\n",
            "  Building wheel for pyworld (PEP 517) ... \u001b[?25l\u001b[?25hdone\n",
            "  Created wheel for pyworld: filename=pyworld-0.3.0-cp37-cp37m-linux_x86_64.whl size=609485 sha256=d751f5dde208a923afa5f25628ab3a9e6cb9f5c18f022b99ce47b52d5c9aba7a\n",
            "  Stored in directory: /root/.cache/pip/wheels/e7/7c/11/c775fffa0e1e7b05a6604b4323408a77f80fb4ab304d96b5c6\n",
            "  Building wheel for ci-sdr (setup.py) ... \u001b[?25l\u001b[?25hdone\n",
            "  Created wheel for ci-sdr: filename=ci_sdr-0.0.0-py3-none-any.whl size=14979 sha256=9c203c12fdd206daafad258d92014e731e37a70be2551aca5bbbaca6431922a4\n",
            "  Stored in directory: /root/.cache/pip/wheels/5f/38/80/2c54c1a4d62cbd3e0871eac9bb5dbb1f93257423888a4ae0ce\n",
            "  Building wheel for distance (setup.py) ... \u001b[?25l\u001b[?25hdone\n",
            "  Created wheel for distance: filename=Distance-0.1.3-py3-none-any.whl size=16276 sha256=6c6780a40c1889930d5f8c73264a64fffff42e10ebcee1ef3f55a9b4055c4863\n",
            "  Stored in directory: /root/.cache/pip/wheels/b2/10/1b/96fca621a1be378e2fe104cfb0d160bb6cdf3d04a3d35266cc\n",
            "  Building wheel for jaconv (setup.py) ... \u001b[?25l\u001b[?25hdone\n",
            "  Created wheel for jaconv: filename=jaconv-0.3-py3-none-any.whl size=15564 sha256=7e69162cd469965890ff5998d25ecbe80b31d2810fa6430aaf462a4edb2db6aa\n",
            "  Stored in directory: /root/.cache/pip/wheels/8f/4f/c2/a2a3b14d0e94f855f4aa8887bf0267bee9ecfb8e62a9ee2d92\n",
            "Successfully built espnet fast-bss-eval ctc-segmentation kaldiio pyworld ci-sdr distance jaconv\n",
            "Installing collected packages: distance, unidecode, pypinyin, jaconv, g2p-en, einops, torch-complex, sentencepiece, pyworld, pytorch-wpe, kaldiio, jamo, humanfriendly, fast-bss-eval, espnet-tts-frontend, ctc-segmentation, configargparse, ci-sdr, espnet\n",
            "Successfully installed ci-sdr-0.0.0 configargparse-1.5.3 ctc-segmentation-1.7.3 distance-0.1.3 einops-0.4.1 espnet-202205 espnet-tts-frontend-0.0.3 fast-bss-eval-0.1.3 g2p-en-2.1.0 humanfriendly-10.0 jaconv-0.3 jamo-0.4.1 kaldiio-2.17.2 pypinyin-0.44.0 pytorch-wpe-0.0.1 pyworld-0.3.0 sentencepiece-0.1.97 torch-complex-0.4.3 unidecode-1.3.4\n"
          ]
        }
      ]
    },
    {
      "cell_type": "code",
      "execution_count": null,
      "metadata": {
        "id": "RvNwM0Ecg4ac",
        "colab": {
          "base_uri": "https://localhost:8080/"
        },
        "outputId": "4070eb20-e73f-440d-d0f6-d4aa3ec74e94"
      },
      "outputs": [
        {
          "output_type": "stream",
          "name": "stdout",
          "text": [
            "Looking in indexes: https://pypi.org/simple, https://us-python.pkg.dev/colab-wheels/public/simple/\n",
            "Requirement already satisfied: torch in /usr/local/lib/python3.7/dist-packages (1.12.1+cu113)\n",
            "Requirement already satisfied: espnet in /usr/local/lib/python3.7/dist-packages (202205)\n",
            "Collecting espnet_model_zoo\n",
            "  Downloading espnet_model_zoo-0.1.7-py3-none-any.whl (19 kB)\n",
            "Collecting parallel_wavegan==0.5.4\n",
            "  Downloading parallel_wavegan-0.5.4.tar.gz (68 kB)\n",
            "\u001b[K     |████████████████████████████████| 68 kB 5.5 MB/s \n",
            "\u001b[?25hRequirement already satisfied: setuptools>=38.5.1 in /usr/local/lib/python3.7/dist-packages (from parallel_wavegan==0.5.4) (57.4.0)\n",
            "Requirement already satisfied: librosa>=0.8.0 in /usr/local/lib/python3.7/dist-packages (from parallel_wavegan==0.5.4) (0.8.1)\n",
            "Requirement already satisfied: soundfile>=0.10.2 in /usr/local/lib/python3.7/dist-packages (from parallel_wavegan==0.5.4) (0.10.3.post1)\n",
            "Collecting tensorboardX>=1.8\n",
            "  Downloading tensorboardX-2.5.1-py2.py3-none-any.whl (125 kB)\n",
            "\u001b[K     |████████████████████████████████| 125 kB 31.6 MB/s \n",
            "\u001b[?25hRequirement already satisfied: matplotlib>=3.1.0 in /usr/local/lib/python3.7/dist-packages (from parallel_wavegan==0.5.4) (3.2.2)\n",
            "Requirement already satisfied: PyYAML>=3.12 in /usr/local/lib/python3.7/dist-packages (from parallel_wavegan==0.5.4) (6.0)\n",
            "Requirement already satisfied: tqdm>=4.26.1 in /usr/local/lib/python3.7/dist-packages (from parallel_wavegan==0.5.4) (4.64.0)\n",
            "Requirement already satisfied: kaldiio>=2.14.1 in /usr/local/lib/python3.7/dist-packages (from parallel_wavegan==0.5.4) (2.17.2)\n",
            "Requirement already satisfied: h5py>=2.9.0 in /usr/local/lib/python3.7/dist-packages (from parallel_wavegan==0.5.4) (3.1.0)\n",
            "Collecting yq>=2.10.0\n",
            "  Downloading yq-3.1.0-py3-none-any.whl (17 kB)\n",
            "Requirement already satisfied: gdown in /usr/local/lib/python3.7/dist-packages (from parallel_wavegan==0.5.4) (4.4.0)\n",
            "Requirement already satisfied: filelock in /usr/local/lib/python3.7/dist-packages (from parallel_wavegan==0.5.4) (3.8.0)\n",
            "Requirement already satisfied: typing-extensions in /usr/local/lib/python3.7/dist-packages (from torch) (4.1.1)\n",
            "Requirement already satisfied: cached-property in /usr/local/lib/python3.7/dist-packages (from h5py>=2.9.0->parallel_wavegan==0.5.4) (1.5.2)\n",
            "Requirement already satisfied: numpy>=1.14.5 in /usr/local/lib/python3.7/dist-packages (from h5py>=2.9.0->parallel_wavegan==0.5.4) (1.21.6)\n",
            "Requirement already satisfied: scikit-learn!=0.19.0,>=0.14.0 in /usr/local/lib/python3.7/dist-packages (from librosa>=0.8.0->parallel_wavegan==0.5.4) (1.0.2)\n",
            "Requirement already satisfied: joblib>=0.14 in /usr/local/lib/python3.7/dist-packages (from librosa>=0.8.0->parallel_wavegan==0.5.4) (1.1.0)\n",
            "Requirement already satisfied: scipy>=1.0.0 in /usr/local/lib/python3.7/dist-packages (from librosa>=0.8.0->parallel_wavegan==0.5.4) (1.7.3)\n",
            "Requirement already satisfied: resampy>=0.2.2 in /usr/local/lib/python3.7/dist-packages (from librosa>=0.8.0->parallel_wavegan==0.5.4) (0.4.0)\n",
            "Requirement already satisfied: numba>=0.43.0 in /usr/local/lib/python3.7/dist-packages (from librosa>=0.8.0->parallel_wavegan==0.5.4) (0.56.0)\n",
            "Requirement already satisfied: packaging>=20.0 in /usr/local/lib/python3.7/dist-packages (from librosa>=0.8.0->parallel_wavegan==0.5.4) (21.3)\n",
            "Requirement already satisfied: audioread>=2.0.0 in /usr/local/lib/python3.7/dist-packages (from librosa>=0.8.0->parallel_wavegan==0.5.4) (3.0.0)\n",
            "Requirement already satisfied: decorator>=3.0.0 in /usr/local/lib/python3.7/dist-packages (from librosa>=0.8.0->parallel_wavegan==0.5.4) (4.4.2)\n",
            "Requirement already satisfied: pooch>=1.0 in /usr/local/lib/python3.7/dist-packages (from librosa>=0.8.0->parallel_wavegan==0.5.4) (1.6.0)\n",
            "Requirement already satisfied: python-dateutil>=2.1 in /usr/local/lib/python3.7/dist-packages (from matplotlib>=3.1.0->parallel_wavegan==0.5.4) (2.8.2)\n",
            "Requirement already satisfied: cycler>=0.10 in /usr/local/lib/python3.7/dist-packages (from matplotlib>=3.1.0->parallel_wavegan==0.5.4) (0.11.0)\n",
            "Requirement already satisfied: kiwisolver>=1.0.1 in /usr/local/lib/python3.7/dist-packages (from matplotlib>=3.1.0->parallel_wavegan==0.5.4) (1.4.4)\n",
            "Requirement already satisfied: pyparsing!=2.0.4,!=2.1.2,!=2.1.6,>=2.0.1 in /usr/local/lib/python3.7/dist-packages (from matplotlib>=3.1.0->parallel_wavegan==0.5.4) (3.0.9)\n",
            "Requirement already satisfied: llvmlite<0.40,>=0.39.0dev0 in /usr/local/lib/python3.7/dist-packages (from numba>=0.43.0->librosa>=0.8.0->parallel_wavegan==0.5.4) (0.39.0)\n",
            "Requirement already satisfied: importlib-metadata in /usr/local/lib/python3.7/dist-packages (from numba>=0.43.0->librosa>=0.8.0->parallel_wavegan==0.5.4) (4.12.0)\n",
            "Requirement already satisfied: requests>=2.19.0 in /usr/local/lib/python3.7/dist-packages (from pooch>=1.0->librosa>=0.8.0->parallel_wavegan==0.5.4) (2.23.0)\n",
            "Requirement already satisfied: appdirs>=1.3.0 in /usr/local/lib/python3.7/dist-packages (from pooch>=1.0->librosa>=0.8.0->parallel_wavegan==0.5.4) (1.4.4)\n",
            "Requirement already satisfied: six>=1.5 in /usr/local/lib/python3.7/dist-packages (from python-dateutil>=2.1->matplotlib>=3.1.0->parallel_wavegan==0.5.4) (1.15.0)\n",
            "Requirement already satisfied: idna<3,>=2.5 in /usr/local/lib/python3.7/dist-packages (from requests>=2.19.0->pooch>=1.0->librosa>=0.8.0->parallel_wavegan==0.5.4) (2.10)\n",
            "Requirement already satisfied: urllib3!=1.25.0,!=1.25.1,<1.26,>=1.21.1 in /usr/local/lib/python3.7/dist-packages (from requests>=2.19.0->pooch>=1.0->librosa>=0.8.0->parallel_wavegan==0.5.4) (1.24.3)\n",
            "Requirement already satisfied: certifi>=2017.4.17 in /usr/local/lib/python3.7/dist-packages (from requests>=2.19.0->pooch>=1.0->librosa>=0.8.0->parallel_wavegan==0.5.4) (2022.6.15)\n",
            "Requirement already satisfied: chardet<4,>=3.0.2 in /usr/local/lib/python3.7/dist-packages (from requests>=2.19.0->pooch>=1.0->librosa>=0.8.0->parallel_wavegan==0.5.4) (3.0.4)\n",
            "Requirement already satisfied: threadpoolctl>=2.0.0 in /usr/local/lib/python3.7/dist-packages (from scikit-learn!=0.19.0,>=0.14.0->librosa>=0.8.0->parallel_wavegan==0.5.4) (3.1.0)\n",
            "Requirement already satisfied: cffi>=1.0 in /usr/local/lib/python3.7/dist-packages (from soundfile>=0.10.2->parallel_wavegan==0.5.4) (1.15.1)\n",
            "Requirement already satisfied: pycparser in /usr/local/lib/python3.7/dist-packages (from cffi>=1.0->soundfile>=0.10.2->parallel_wavegan==0.5.4) (2.21)\n",
            "Requirement already satisfied: protobuf<=3.20.1,>=3.8.0 in /usr/local/lib/python3.7/dist-packages (from tensorboardX>=1.8->parallel_wavegan==0.5.4) (3.17.3)\n",
            "Collecting argcomplete>=1.8.1\n",
            "  Downloading argcomplete-2.0.0-py2.py3-none-any.whl (37 kB)\n",
            "Requirement already satisfied: toml>=0.10.0 in /usr/local/lib/python3.7/dist-packages (from yq>=2.10.0->parallel_wavegan==0.5.4) (0.10.2)\n",
            "Collecting xmltodict>=0.11.0\n",
            "  Downloading xmltodict-0.13.0-py2.py3-none-any.whl (10.0 kB)\n",
            "Requirement already satisfied: zipp>=0.5 in /usr/local/lib/python3.7/dist-packages (from importlib-metadata->numba>=0.43.0->librosa>=0.8.0->parallel_wavegan==0.5.4) (3.8.1)\n",
            "Requirement already satisfied: ci-sdr in /usr/local/lib/python3.7/dist-packages (from espnet) (0.0.0)\n",
            "Requirement already satisfied: ctc-segmentation<1.8,>=1.6.6 in /usr/local/lib/python3.7/dist-packages (from espnet) (1.7.3)\n",
            "Requirement already satisfied: pyworld>=0.2.10 in /usr/local/lib/python3.7/dist-packages (from espnet) (0.3.0)\n",
            "Requirement already satisfied: fast-bss-eval==0.1.3 in /usr/local/lib/python3.7/dist-packages (from espnet) (0.1.3)\n",
            "Requirement already satisfied: sentencepiece in /usr/local/lib/python3.7/dist-packages (from espnet) (0.1.97)\n",
            "Requirement already satisfied: typeguard>=2.7.0 in /usr/local/lib/python3.7/dist-packages (from espnet) (2.7.1)\n",
            "Requirement already satisfied: jamo==0.4.1 in /usr/local/lib/python3.7/dist-packages (from espnet) (0.4.1)\n",
            "Requirement already satisfied: pypinyin<=0.44.0 in /usr/local/lib/python3.7/dist-packages (from espnet) (0.44.0)\n",
            "Requirement already satisfied: nltk>=3.4.5 in /usr/local/lib/python3.7/dist-packages (from espnet) (3.7)\n",
            "Requirement already satisfied: torch-complex in /usr/local/lib/python3.7/dist-packages (from espnet) (0.4.3)\n",
            "Requirement already satisfied: humanfriendly in /usr/local/lib/python3.7/dist-packages (from espnet) (10.0)\n",
            "Requirement already satisfied: espnet-tts-frontend in /usr/local/lib/python3.7/dist-packages (from espnet) (0.0.3)\n",
            "Requirement already satisfied: configargparse>=1.2.1 in /usr/local/lib/python3.7/dist-packages (from espnet) (1.5.3)\n",
            "Requirement already satisfied: pytorch-wpe in /usr/local/lib/python3.7/dist-packages (from espnet) (0.0.1)\n",
            "Requirement already satisfied: Cython in /usr/local/lib/python3.7/dist-packages (from ctc-segmentation<1.8,>=1.6.6->espnet) (0.29.32)\n",
            "Requirement already satisfied: regex>=2021.8.3 in /usr/local/lib/python3.7/dist-packages (from nltk>=3.4.5->espnet) (2022.6.2)\n",
            "Requirement already satisfied: click in /usr/local/lib/python3.7/dist-packages (from nltk>=3.4.5->espnet) (7.1.2)\n",
            "Collecting huggingface-hub\n",
            "  Downloading huggingface_hub-0.9.1-py3-none-any.whl (120 kB)\n",
            "\u001b[K     |████████████████████████████████| 120 kB 86.2 MB/s \n",
            "\u001b[?25hRequirement already satisfied: pandas in /usr/local/lib/python3.7/dist-packages (from espnet_model_zoo) (1.3.5)\n",
            "Requirement already satisfied: einops in /usr/local/lib/python3.7/dist-packages (from ci-sdr->espnet) (0.4.1)\n",
            "Requirement already satisfied: g2p-en in /usr/local/lib/python3.7/dist-packages (from espnet-tts-frontend->espnet) (2.1.0)\n",
            "Requirement already satisfied: unidecode>=1.0.22 in /usr/local/lib/python3.7/dist-packages (from espnet-tts-frontend->espnet) (1.3.4)\n",
            "Requirement already satisfied: jaconv in /usr/local/lib/python3.7/dist-packages (from espnet-tts-frontend->espnet) (0.3)\n",
            "Requirement already satisfied: inflect>=1.0.0 in /usr/local/lib/python3.7/dist-packages (from espnet-tts-frontend->espnet) (2.1.0)\n",
            "Requirement already satisfied: distance>=0.1.3 in /usr/local/lib/python3.7/dist-packages (from g2p-en->espnet-tts-frontend->espnet) (0.1.3)\n",
            "Requirement already satisfied: beautifulsoup4 in /usr/local/lib/python3.7/dist-packages (from gdown->parallel_wavegan==0.5.4) (4.6.3)\n",
            "Requirement already satisfied: pytz>=2017.3 in /usr/local/lib/python3.7/dist-packages (from pandas->espnet_model_zoo) (2022.2.1)\n",
            "Requirement already satisfied: PySocks!=1.5.7,>=1.5.6 in /usr/local/lib/python3.7/dist-packages (from requests>=2.19.0->pooch>=1.0->librosa>=0.8.0->parallel_wavegan==0.5.4) (1.7.1)\n",
            "Building wheels for collected packages: parallel-wavegan\n",
            "  Building wheel for parallel-wavegan (setup.py) ... \u001b[?25l\u001b[?25hdone\n",
            "  Created wheel for parallel-wavegan: filename=parallel_wavegan-0.5.4-py3-none-any.whl size=71010 sha256=6fe758421c6606b930907a95176c1ed35cada4bd735dd62e1c4912df051c04d7\n",
            "  Stored in directory: /root/.cache/pip/wheels/5e/76/4d/8d938995675ca8cc9352214c9f23c57a505fe3bcd46ce3b138\n",
            "Successfully built parallel-wavegan\n",
            "Installing collected packages: xmltodict, argcomplete, yq, tensorboardX, huggingface-hub, parallel-wavegan, espnet-model-zoo\n",
            "Successfully installed argcomplete-2.0.0 espnet-model-zoo-0.1.7 huggingface-hub-0.9.1 parallel-wavegan-0.5.4 tensorboardX-2.5.1 xmltodict-0.13.0 yq-3.1.0\n"
          ]
        }
      ],
      "source": [
        "pip install torch espnet espnet_model_zoo parallel_wavegan==0.5.4"
      ]
    },
    {
      "cell_type": "code",
      "source": [
        "%%bash\n",
        "!(stat -t /usr/local/lib/*/dist-packages/google/colab > /dev/null 2>&1) && exit \n",
        "pip install ninja 2>> install.log\n",
        "git clone https://github.com/SIDN-IAP/global-model-repr.git tutorial_code 2>> install.log\n",
        "# git clone https://github.com/billybraith17/global-model-repr.git tutorial_code 2>> install.log"
      ],
      "metadata": {
        "id": "VxIZkC-7keAd",
        "colab": {
          "base_uri": "https://localhost:8080/"
        },
        "outputId": "c489c10f-6f9c-4993-b322-ca69a11226ff"
      },
      "execution_count": null,
      "outputs": [
        {
          "output_type": "stream",
          "name": "stdout",
          "text": [
            "Looking in indexes: https://pypi.org/simple, https://us-python.pkg.dev/colab-wheels/public/simple/\n",
            "Collecting ninja\n",
            "  Downloading ninja-1.10.2.3-py2.py3-none-manylinux_2_5_x86_64.manylinux1_x86_64.whl (108 kB)\n",
            "Installing collected packages: ninja\n",
            "Successfully installed ninja-1.10.2.3\n"
          ]
        }
      ]
    },
    {
      "cell_type": "code",
      "source": [
        "try: # set up path\n",
        "    import google.colab, sys, torch\n",
        "    sys.path.append('/content/tutorial_code')\n",
        "    if not torch.cuda.is_available():\n",
        "        print(\"Change runtime type to include a GPU.\")  \n",
        "except:\n",
        "    pass"
      ],
      "metadata": {
        "id": "ZzQNB5nikhAC"
      },
      "execution_count": null,
      "outputs": []
    },
    {
      "cell_type": "code",
      "source": [
        "%matplotlib inline\n",
        "import matplotlib.pyplot as plt\n",
        "import matplotlib as mpl"
      ],
      "metadata": {
        "id": "mhOKz_lMOAmD"
      },
      "execution_count": null,
      "outputs": []
    },
    {
      "cell_type": "code",
      "source": [
        "import torch\n",
        "\n",
        "device = torch.device('cuda' if torch.cuda.is_available() else 'cpu')\n",
        "print('Running pytorch', torch.__version__, 'using', device.type)"
      ],
      "metadata": {
        "id": "4V4F8d3OOK6g",
        "colab": {
          "base_uri": "https://localhost:8080/"
        },
        "outputId": "bdb73f73-adba-4f30-87d4-a976c1891455"
      },
      "execution_count": null,
      "outputs": [
        {
          "output_type": "stream",
          "name": "stdout",
          "text": [
            "Running pytorch 1.12.1+cu113 using cuda\n"
          ]
        }
      ]
    },
    {
      "cell_type": "code",
      "source": [
        "import torchvision\n",
        "import torch.hub\n",
        "\n",
        "# using the global-model-repr package\n",
        "from netdissect import nethook, proggan"
      ],
      "metadata": {
        "id": "7EfUeMRoOO1N"
      },
      "execution_count": null,
      "outputs": []
    },
    {
      "cell_type": "code",
      "source": [
        "# def from_pretrained2(\n",
        "#     model_tag: Optional[str] = None,\n",
        "#     vocoder_tag: Optional[str] = None,\n",
        "#     **kwargs: Optional[Any],\n",
        "# ):\n",
        "\"\"\"Build Text2Speech instance from the pretrained model.\n",
        "Args:\n",
        "    model_tag (Optional[str]): Model tag of the pretrained models.\n",
        "        Currently, the tags of espnet_model_zoo are supported.\n",
        "    vocoder_tag (Optional[str]): Vocoder tag of the pretrained vocoders.\n",
        "        Currently, the tags of parallel_wavegan are supported, which should\n",
        "        start with the prefix \"parallel_wavegan/\".\n",
        "Returns:\n",
        "    Text2Speech: Text2Speech instance.\n",
        "\"\"\"\n",
        "\n",
        "from espnet2.bin.tts_inference import Text2Speech\n",
        "\n",
        "model_tag = 'kan-bayashi/vctk_xvector_conformer_fastspeech2' #@param [\"kan-bayashi/vctk_gst_tacotron2\", \"kan-bayashi/vctk_gst_transformer\", \"kan-bayashi/vctk_xvector_tacotron2\", \"kan-bayashi/vctk_xvector_transformer\", \"kan-bayashi/vctk_xvector_conformer_fastspeech2\", \"kan-bayashi/vctk_gst+xvector_tacotron2\", \"kan-bayashi/vctk_gst+xvector_transformer\", \"kan-bayashi/vctk_gst+xvector_conformer_fastspeech2\", \"kan-bayashi/vctk_multi_spk_vits\", \"kan-bayashi/vctk_full_band_multi_spk_vits\", \"kan-bayashi/libritts_xvector_transformer\", \"kan-bayashi/libritts_xvector_conformer_fastspeech2\", \"kan-bayashi/libritts_gst+xvector_transformer\", \"kan-bayashi/libritts_gst+xvector_conformer_fastspeech2\", \"kan-bayashi/libritts_xvector_vits\"] {type:\"string\"}\n",
        "vocoder_tag = \"parallel_wavegan/vctk_hifigan.v1\"  #@param [\"none\", \"parallel_wavegan/vctk_parallel_wavegan.v1.long\", \"parallel_wavegan/vctk_multi_band_melgan.v2\", \"parallel_wavegan/vctk_style_melgan.v1\", \"parallel_wavegan/vctk_hifigan.v1\", \"parallel_wavegan/libritts_parallel_wavegan.v1.long\", \"parallel_wavegan/libritts_multi_band_melgan.v2\", \"parallel_wavegan/libritts_hifigan.v1\", \"parallel_wavegan/libritts_style_melgan.v1\"] {type:\"string\"}\n",
        "kwargs = {\n",
        "    # Only for Tacotron 2 & Transformer\n",
        "    \"threshold\" : 0.5,\n",
        "    # Only for Tacotron 2\n",
        "    \"minlenratio\" : 0.0,\n",
        "    \"maxlenratio\" : 10.0,\n",
        "    \"use_att_constraint\" : False,\n",
        "    \"backward_window\" : 1,\n",
        "    \"forward_window\" : 3,\n",
        "    # Only for FastSpeech & FastSpeech2 & VITS\n",
        "    \"speed_control_alpha\" : 1.0,\n",
        "    # Only for VITS\n",
        "    \"noise_scale\" : 0.333,\n",
        "    \"noise_scale_dur\" : 0.333,\n",
        "}\n",
        "\n",
        "# print(kwargs[\"noise_scale\"])\n",
        "# model_tag: Optional[str] = None\n",
        "# vocoder_tag: Optional[str] = None\n",
        "# **kwargs: Optional[Any]\n",
        "\n",
        "\n",
        "if model_tag is not None:\n",
        "    try:\n",
        "        from espnet_model_zoo.downloader import ModelDownloader\n",
        "\n",
        "    except ImportError:\n",
        "        logging.error(\n",
        "            \"`espnet_model_zoo` is not installed. \"\n",
        "            \"Please install via `pip install -U espnet_model_zoo`.\"\n",
        "        )\n",
        "        raise\n",
        "    d = ModelDownloader()\n",
        "    kwargs.update(**d.download_and_unpack(model_tag))\n",
        "\n",
        "if vocoder_tag is not None:\n",
        "    if vocoder_tag.startswith(\"parallel_wavegan/\"):\n",
        "        try:\n",
        "            from parallel_wavegan.utils import download_pretrained_model\n",
        "\n",
        "        except ImportError:\n",
        "            logging.error(\n",
        "                \"`parallel_wavegan` is not installed. \"\n",
        "                \"Please install via `pip install -U parallel_wavegan`.\"\n",
        "            )\n",
        "            raise\n",
        "\n",
        "        from parallel_wavegan import __version__\n",
        "        from packaging.version import parse as V\n",
        "        from pathlib import Path\n",
        "\n",
        "        # NOTE(kan-bayashi): Filelock download is supported from 0.5.2\n",
        "        assert V(__version__) > V(\"0.5.1\"), (\n",
        "            \"Please install the latest parallel_wavegan \"\n",
        "            \"via `pip install -U parallel_wavegan`.\"\n",
        "        )\n",
        "        vocoder_tag = vocoder_tag.replace(\"parallel_wavegan/\", \"\")\n",
        "        vocoder_file = download_pretrained_model(vocoder_tag)\n",
        "        vocoder_config = Path(vocoder_file).parent / \"config.yml\"\n",
        "        kwargs.update(vocoder_config=vocoder_config, vocoder_file=vocoder_file)\n",
        "\n",
        "    else:\n",
        "        raise ValueError(f\"{vocoder_tag} is unsupported format.\")\n",
        "\n",
        "# __init__\n",
        "text2speech = Text2Speech(**kwargs)"
      ],
      "metadata": {
        "id": "46CeL7EIlN7C",
        "colab": {
          "base_uri": "https://localhost:8080/"
        },
        "outputId": "172a67f5-45b2-4b85-e1a8-d96b2b4c7abb"
      },
      "execution_count": null,
      "outputs": [
        {
          "output_type": "stream",
          "name": "stderr",
          "text": [
            "[nltk_data] Downloading package averaged_perceptron_tagger to\n",
            "[nltk_data]     /root/nltk_data...\n",
            "[nltk_data]   Unzipping taggers/averaged_perceptron_tagger.zip.\n",
            "[nltk_data] Downloading package cmudict to /root/nltk_data...\n",
            "[nltk_data]   Unzipping corpora/cmudict.zip.\n",
            "https://zenodo.org/record/4394602/files/tts_train_xvector_conformer_fastspeech2_transformer_teacher_raw_phn_tacotron_g2p_en_no_space_train.loss.ave.zip?download=1: 100%|██████████| 270M/270M [00:08<00:00, 32.3MB/s]\n",
            "Downloading...\n",
            "From: https://drive.google.com/uc?id=1oVOC4Vf0DYLdDp4r7GChfgj7Xh5xd0ex\n",
            "To: /root/.cache/parallel_wavegan/vctk_hifigan.v1.tar.gz\n",
            "100%|██████████| 916M/916M [00:05<00:00, 162MB/s]\n",
            "WARNING:root:Fallback to conformer_pos_enc_layer_type = 'legacy_rel_pos' due to the compatibility. If you want to use the new one, please use conformer_pos_enc_layer_type = 'latest'.\n",
            "WARNING:root:Fallback to conformer_self_attn_layer_type = 'legacy_rel_selfattn' due to the compatibility. If you want to use the new one, please use conformer_pos_enc_layer_type = 'latest'.\n"
          ]
        }
      ]
    },
    {
      "cell_type": "code",
      "source": [
        "# Wrap the vocoder\n",
        "from netdissect import nethook\n",
        "layer = 'vocoder.blocks.7.convs1.2.1'    #@param [\"vocoder.last_conv_layers.0\", \"vocoder.last_conv_layers.1\", \"vocoder.last_conv_layers.2\", \"vocoder.last_conv_layers.3\", \"vocoder.conv_layers.6.conv\", \"vocoder.conv_layers.6.conv1x1_aux\", \"vocoder.conv_layers.6.conv1x1_out\", \"vocoder.conv_layers.6.conv1x1_skip\", \"vocoder.first_conv\", \"vocoder.upsample_net.conv_in\", \"vocoder.upsample_net.upsample.up_layers.6\", \"vocoder.upsample_net.upsample.up_layers.7\", \"vocoder.melgan.0\", \"vocoder.melgan.19.stack.4\", \"vocoder.melgan.23\", \"vocoder.pqmf.pad_fn\", \"vocoder.blocks.7.upsample\", \"vocoder.output_conv.1\", \"vocoder.blocks.11.convs2.0.1\", \"vocoder.output_conv.2\", \"vocoder.blocks.0.convs1.1.1\", \"vocoder.blocks.1.convs1.1.1\", \"vocoder.blocks.4.convs1.1.1\", \"vocoder.blocks.7.convs1.1.1\", \"vocoder.blocks.7.convs1.2.1\", \"vocoder.blocks.8.convs1.2.1\", \"vocoder.blocks.9.convs1.1.1\", \"vocoder.blocks.9.convs2.1.1\",  \"vocoder.blocks.10.convs1.1.1\",  \"vocoder.blocks.10.convs2.1.1\", \"vocoder.blocks.11.convs2.1.1\", \"vocoder.blocks.0.convs1.1.0\", \"vocoder.blocks.1.convs1.1.0\", \"vocoder.blocks.4.convs1.1.0\", \"vocoder.blocks.7.convs1.1.0\", \"vocoder.blocks.7.convs1.2.0\", \"vocoder.blocks.8.convs1.2.0\", \"vocoder.blocks.9.convs1.1.0\", \"vocoder.blocks.9.convs2.1.0\",  \"vocoder.blocks.10.convs1.1.0\",  \"vocoder.blocks.10.convs2.1.0\", \"vocoder.blocks.11.convs2.1.0\"] {type:\"string\"}\n",
        "\n",
        "\n",
        "# Don't re-wrap it, if it's already wrapped (e.g., if you press enter twice)\n",
        "if not isinstance(text2speech.vocoder, nethook.InstrumentedModel):\n",
        "    text2speech.vocoder = nethook.InstrumentedModel(text2speech.vocoder)\n",
        "text2speech.vocoder.retain_layer(layer)"
      ],
      "metadata": {
        "id": "NsnfVGDxxeN7"
      },
      "execution_count": null,
      "outputs": []
    },
    {
      "cell_type": "code",
      "source": [
        "text2speech.vocoder\n",
        "\n",
        "# text2speech.vocoder.retain_layer('vocoder')"
      ],
      "metadata": {
        "id": "W_1FJ68l9M7Q",
        "colab": {
          "base_uri": "https://localhost:8080/"
        },
        "outputId": "1d758e0a-d315-4584-e0eb-8eae4bff2ad9"
      },
      "execution_count": null,
      "outputs": [
        {
          "output_type": "execute_result",
          "data": {
            "text/plain": [
              "InstrumentedModel(\n",
              "  (model): ParallelWaveGANPretrainedVocoder(\n",
              "    (vocoder): HiFiGANGenerator(\n",
              "      (input_conv): Conv1d(80, 512, kernel_size=(7,), stride=(1,), padding=(3,))\n",
              "      (upsamples): ModuleList(\n",
              "        (0): Sequential(\n",
              "          (0): LeakyReLU(negative_slope=0.1)\n",
              "          (1): ConvTranspose1d(512, 256, kernel_size=(10,), stride=(5,), padding=(3,), output_padding=(1,))\n",
              "        )\n",
              "        (1): Sequential(\n",
              "          (0): LeakyReLU(negative_slope=0.1)\n",
              "          (1): ConvTranspose1d(256, 128, kernel_size=(10,), stride=(5,), padding=(3,), output_padding=(1,))\n",
              "        )\n",
              "        (2): Sequential(\n",
              "          (0): LeakyReLU(negative_slope=0.1)\n",
              "          (1): ConvTranspose1d(128, 64, kernel_size=(8,), stride=(4,), padding=(2,))\n",
              "        )\n",
              "        (3): Sequential(\n",
              "          (0): LeakyReLU(negative_slope=0.1)\n",
              "          (1): ConvTranspose1d(64, 32, kernel_size=(6,), stride=(3,), padding=(2,), output_padding=(1,))\n",
              "        )\n",
              "      )\n",
              "      (blocks): ModuleList(\n",
              "        (0): HiFiGANResidualBlock(\n",
              "          (convs1): ModuleList(\n",
              "            (0): Sequential(\n",
              "              (0): LeakyReLU(negative_slope=0.1)\n",
              "              (1): Conv1d(256, 256, kernel_size=(3,), stride=(1,), padding=(1,))\n",
              "            )\n",
              "            (1): Sequential(\n",
              "              (0): LeakyReLU(negative_slope=0.1)\n",
              "              (1): Conv1d(256, 256, kernel_size=(3,), stride=(1,), padding=(3,), dilation=(3,))\n",
              "            )\n",
              "            (2): Sequential(\n",
              "              (0): LeakyReLU(negative_slope=0.1)\n",
              "              (1): Conv1d(256, 256, kernel_size=(3,), stride=(1,), padding=(5,), dilation=(5,))\n",
              "            )\n",
              "          )\n",
              "          (convs2): ModuleList(\n",
              "            (0): Sequential(\n",
              "              (0): LeakyReLU(negative_slope=0.1)\n",
              "              (1): Conv1d(256, 256, kernel_size=(3,), stride=(1,), padding=(1,))\n",
              "            )\n",
              "            (1): Sequential(\n",
              "              (0): LeakyReLU(negative_slope=0.1)\n",
              "              (1): Conv1d(256, 256, kernel_size=(3,), stride=(1,), padding=(1,))\n",
              "            )\n",
              "            (2): Sequential(\n",
              "              (0): LeakyReLU(negative_slope=0.1)\n",
              "              (1): Conv1d(256, 256, kernel_size=(3,), stride=(1,), padding=(1,))\n",
              "            )\n",
              "          )\n",
              "        )\n",
              "        (1): HiFiGANResidualBlock(\n",
              "          (convs1): ModuleList(\n",
              "            (0): Sequential(\n",
              "              (0): LeakyReLU(negative_slope=0.1)\n",
              "              (1): Conv1d(256, 256, kernel_size=(7,), stride=(1,), padding=(3,))\n",
              "            )\n",
              "            (1): Sequential(\n",
              "              (0): LeakyReLU(negative_slope=0.1)\n",
              "              (1): Conv1d(256, 256, kernel_size=(7,), stride=(1,), padding=(9,), dilation=(3,))\n",
              "            )\n",
              "            (2): Sequential(\n",
              "              (0): LeakyReLU(negative_slope=0.1)\n",
              "              (1): Conv1d(256, 256, kernel_size=(7,), stride=(1,), padding=(15,), dilation=(5,))\n",
              "            )\n",
              "          )\n",
              "          (convs2): ModuleList(\n",
              "            (0): Sequential(\n",
              "              (0): LeakyReLU(negative_slope=0.1)\n",
              "              (1): Conv1d(256, 256, kernel_size=(7,), stride=(1,), padding=(3,))\n",
              "            )\n",
              "            (1): Sequential(\n",
              "              (0): LeakyReLU(negative_slope=0.1)\n",
              "              (1): Conv1d(256, 256, kernel_size=(7,), stride=(1,), padding=(3,))\n",
              "            )\n",
              "            (2): Sequential(\n",
              "              (0): LeakyReLU(negative_slope=0.1)\n",
              "              (1): Conv1d(256, 256, kernel_size=(7,), stride=(1,), padding=(3,))\n",
              "            )\n",
              "          )\n",
              "        )\n",
              "        (2): HiFiGANResidualBlock(\n",
              "          (convs1): ModuleList(\n",
              "            (0): Sequential(\n",
              "              (0): LeakyReLU(negative_slope=0.1)\n",
              "              (1): Conv1d(256, 256, kernel_size=(11,), stride=(1,), padding=(5,))\n",
              "            )\n",
              "            (1): Sequential(\n",
              "              (0): LeakyReLU(negative_slope=0.1)\n",
              "              (1): Conv1d(256, 256, kernel_size=(11,), stride=(1,), padding=(15,), dilation=(3,))\n",
              "            )\n",
              "            (2): Sequential(\n",
              "              (0): LeakyReLU(negative_slope=0.1)\n",
              "              (1): Conv1d(256, 256, kernel_size=(11,), stride=(1,), padding=(25,), dilation=(5,))\n",
              "            )\n",
              "          )\n",
              "          (convs2): ModuleList(\n",
              "            (0): Sequential(\n",
              "              (0): LeakyReLU(negative_slope=0.1)\n",
              "              (1): Conv1d(256, 256, kernel_size=(11,), stride=(1,), padding=(5,))\n",
              "            )\n",
              "            (1): Sequential(\n",
              "              (0): LeakyReLU(negative_slope=0.1)\n",
              "              (1): Conv1d(256, 256, kernel_size=(11,), stride=(1,), padding=(5,))\n",
              "            )\n",
              "            (2): Sequential(\n",
              "              (0): LeakyReLU(negative_slope=0.1)\n",
              "              (1): Conv1d(256, 256, kernel_size=(11,), stride=(1,), padding=(5,))\n",
              "            )\n",
              "          )\n",
              "        )\n",
              "        (3): HiFiGANResidualBlock(\n",
              "          (convs1): ModuleList(\n",
              "            (0): Sequential(\n",
              "              (0): LeakyReLU(negative_slope=0.1)\n",
              "              (1): Conv1d(128, 128, kernel_size=(3,), stride=(1,), padding=(1,))\n",
              "            )\n",
              "            (1): Sequential(\n",
              "              (0): LeakyReLU(negative_slope=0.1)\n",
              "              (1): Conv1d(128, 128, kernel_size=(3,), stride=(1,), padding=(3,), dilation=(3,))\n",
              "            )\n",
              "            (2): Sequential(\n",
              "              (0): LeakyReLU(negative_slope=0.1)\n",
              "              (1): Conv1d(128, 128, kernel_size=(3,), stride=(1,), padding=(5,), dilation=(5,))\n",
              "            )\n",
              "          )\n",
              "          (convs2): ModuleList(\n",
              "            (0): Sequential(\n",
              "              (0): LeakyReLU(negative_slope=0.1)\n",
              "              (1): Conv1d(128, 128, kernel_size=(3,), stride=(1,), padding=(1,))\n",
              "            )\n",
              "            (1): Sequential(\n",
              "              (0): LeakyReLU(negative_slope=0.1)\n",
              "              (1): Conv1d(128, 128, kernel_size=(3,), stride=(1,), padding=(1,))\n",
              "            )\n",
              "            (2): Sequential(\n",
              "              (0): LeakyReLU(negative_slope=0.1)\n",
              "              (1): Conv1d(128, 128, kernel_size=(3,), stride=(1,), padding=(1,))\n",
              "            )\n",
              "          )\n",
              "        )\n",
              "        (4): HiFiGANResidualBlock(\n",
              "          (convs1): ModuleList(\n",
              "            (0): Sequential(\n",
              "              (0): LeakyReLU(negative_slope=0.1)\n",
              "              (1): Conv1d(128, 128, kernel_size=(7,), stride=(1,), padding=(3,))\n",
              "            )\n",
              "            (1): Sequential(\n",
              "              (0): LeakyReLU(negative_slope=0.1)\n",
              "              (1): Conv1d(128, 128, kernel_size=(7,), stride=(1,), padding=(9,), dilation=(3,))\n",
              "            )\n",
              "            (2): Sequential(\n",
              "              (0): LeakyReLU(negative_slope=0.1)\n",
              "              (1): Conv1d(128, 128, kernel_size=(7,), stride=(1,), padding=(15,), dilation=(5,))\n",
              "            )\n",
              "          )\n",
              "          (convs2): ModuleList(\n",
              "            (0): Sequential(\n",
              "              (0): LeakyReLU(negative_slope=0.1)\n",
              "              (1): Conv1d(128, 128, kernel_size=(7,), stride=(1,), padding=(3,))\n",
              "            )\n",
              "            (1): Sequential(\n",
              "              (0): LeakyReLU(negative_slope=0.1)\n",
              "              (1): Conv1d(128, 128, kernel_size=(7,), stride=(1,), padding=(3,))\n",
              "            )\n",
              "            (2): Sequential(\n",
              "              (0): LeakyReLU(negative_slope=0.1)\n",
              "              (1): Conv1d(128, 128, kernel_size=(7,), stride=(1,), padding=(3,))\n",
              "            )\n",
              "          )\n",
              "        )\n",
              "        (5): HiFiGANResidualBlock(\n",
              "          (convs1): ModuleList(\n",
              "            (0): Sequential(\n",
              "              (0): LeakyReLU(negative_slope=0.1)\n",
              "              (1): Conv1d(128, 128, kernel_size=(11,), stride=(1,), padding=(5,))\n",
              "            )\n",
              "            (1): Sequential(\n",
              "              (0): LeakyReLU(negative_slope=0.1)\n",
              "              (1): Conv1d(128, 128, kernel_size=(11,), stride=(1,), padding=(15,), dilation=(3,))\n",
              "            )\n",
              "            (2): Sequential(\n",
              "              (0): LeakyReLU(negative_slope=0.1)\n",
              "              (1): Conv1d(128, 128, kernel_size=(11,), stride=(1,), padding=(25,), dilation=(5,))\n",
              "            )\n",
              "          )\n",
              "          (convs2): ModuleList(\n",
              "            (0): Sequential(\n",
              "              (0): LeakyReLU(negative_slope=0.1)\n",
              "              (1): Conv1d(128, 128, kernel_size=(11,), stride=(1,), padding=(5,))\n",
              "            )\n",
              "            (1): Sequential(\n",
              "              (0): LeakyReLU(negative_slope=0.1)\n",
              "              (1): Conv1d(128, 128, kernel_size=(11,), stride=(1,), padding=(5,))\n",
              "            )\n",
              "            (2): Sequential(\n",
              "              (0): LeakyReLU(negative_slope=0.1)\n",
              "              (1): Conv1d(128, 128, kernel_size=(11,), stride=(1,), padding=(5,))\n",
              "            )\n",
              "          )\n",
              "        )\n",
              "        (6): HiFiGANResidualBlock(\n",
              "          (convs1): ModuleList(\n",
              "            (0): Sequential(\n",
              "              (0): LeakyReLU(negative_slope=0.1)\n",
              "              (1): Conv1d(64, 64, kernel_size=(3,), stride=(1,), padding=(1,))\n",
              "            )\n",
              "            (1): Sequential(\n",
              "              (0): LeakyReLU(negative_slope=0.1)\n",
              "              (1): Conv1d(64, 64, kernel_size=(3,), stride=(1,), padding=(3,), dilation=(3,))\n",
              "            )\n",
              "            (2): Sequential(\n",
              "              (0): LeakyReLU(negative_slope=0.1)\n",
              "              (1): Conv1d(64, 64, kernel_size=(3,), stride=(1,), padding=(5,), dilation=(5,))\n",
              "            )\n",
              "          )\n",
              "          (convs2): ModuleList(\n",
              "            (0): Sequential(\n",
              "              (0): LeakyReLU(negative_slope=0.1)\n",
              "              (1): Conv1d(64, 64, kernel_size=(3,), stride=(1,), padding=(1,))\n",
              "            )\n",
              "            (1): Sequential(\n",
              "              (0): LeakyReLU(negative_slope=0.1)\n",
              "              (1): Conv1d(64, 64, kernel_size=(3,), stride=(1,), padding=(1,))\n",
              "            )\n",
              "            (2): Sequential(\n",
              "              (0): LeakyReLU(negative_slope=0.1)\n",
              "              (1): Conv1d(64, 64, kernel_size=(3,), stride=(1,), padding=(1,))\n",
              "            )\n",
              "          )\n",
              "        )\n",
              "        (7): HiFiGANResidualBlock(\n",
              "          (convs1): ModuleList(\n",
              "            (0): Sequential(\n",
              "              (0): LeakyReLU(negative_slope=0.1)\n",
              "              (1): Conv1d(64, 64, kernel_size=(7,), stride=(1,), padding=(3,))\n",
              "            )\n",
              "            (1): Sequential(\n",
              "              (0): LeakyReLU(negative_slope=0.1)\n",
              "              (1): Conv1d(64, 64, kernel_size=(7,), stride=(1,), padding=(9,), dilation=(3,))\n",
              "            )\n",
              "            (2): Sequential(\n",
              "              (0): LeakyReLU(negative_slope=0.1)\n",
              "              (1): Conv1d(64, 64, kernel_size=(7,), stride=(1,), padding=(15,), dilation=(5,))\n",
              "            )\n",
              "          )\n",
              "          (convs2): ModuleList(\n",
              "            (0): Sequential(\n",
              "              (0): LeakyReLU(negative_slope=0.1)\n",
              "              (1): Conv1d(64, 64, kernel_size=(7,), stride=(1,), padding=(3,))\n",
              "            )\n",
              "            (1): Sequential(\n",
              "              (0): LeakyReLU(negative_slope=0.1)\n",
              "              (1): Conv1d(64, 64, kernel_size=(7,), stride=(1,), padding=(3,))\n",
              "            )\n",
              "            (2): Sequential(\n",
              "              (0): LeakyReLU(negative_slope=0.1)\n",
              "              (1): Conv1d(64, 64, kernel_size=(7,), stride=(1,), padding=(3,))\n",
              "            )\n",
              "          )\n",
              "        )\n",
              "        (8): HiFiGANResidualBlock(\n",
              "          (convs1): ModuleList(\n",
              "            (0): Sequential(\n",
              "              (0): LeakyReLU(negative_slope=0.1)\n",
              "              (1): Conv1d(64, 64, kernel_size=(11,), stride=(1,), padding=(5,))\n",
              "            )\n",
              "            (1): Sequential(\n",
              "              (0): LeakyReLU(negative_slope=0.1)\n",
              "              (1): Conv1d(64, 64, kernel_size=(11,), stride=(1,), padding=(15,), dilation=(3,))\n",
              "            )\n",
              "            (2): Sequential(\n",
              "              (0): LeakyReLU(negative_slope=0.1)\n",
              "              (1): Conv1d(64, 64, kernel_size=(11,), stride=(1,), padding=(25,), dilation=(5,))\n",
              "            )\n",
              "          )\n",
              "          (convs2): ModuleList(\n",
              "            (0): Sequential(\n",
              "              (0): LeakyReLU(negative_slope=0.1)\n",
              "              (1): Conv1d(64, 64, kernel_size=(11,), stride=(1,), padding=(5,))\n",
              "            )\n",
              "            (1): Sequential(\n",
              "              (0): LeakyReLU(negative_slope=0.1)\n",
              "              (1): Conv1d(64, 64, kernel_size=(11,), stride=(1,), padding=(5,))\n",
              "            )\n",
              "            (2): Sequential(\n",
              "              (0): LeakyReLU(negative_slope=0.1)\n",
              "              (1): Conv1d(64, 64, kernel_size=(11,), stride=(1,), padding=(5,))\n",
              "            )\n",
              "          )\n",
              "        )\n",
              "        (9): HiFiGANResidualBlock(\n",
              "          (convs1): ModuleList(\n",
              "            (0): Sequential(\n",
              "              (0): LeakyReLU(negative_slope=0.1)\n",
              "              (1): Conv1d(32, 32, kernel_size=(3,), stride=(1,), padding=(1,))\n",
              "            )\n",
              "            (1): Sequential(\n",
              "              (0): LeakyReLU(negative_slope=0.1)\n",
              "              (1): Conv1d(32, 32, kernel_size=(3,), stride=(1,), padding=(3,), dilation=(3,))\n",
              "            )\n",
              "            (2): Sequential(\n",
              "              (0): LeakyReLU(negative_slope=0.1)\n",
              "              (1): Conv1d(32, 32, kernel_size=(3,), stride=(1,), padding=(5,), dilation=(5,))\n",
              "            )\n",
              "          )\n",
              "          (convs2): ModuleList(\n",
              "            (0): Sequential(\n",
              "              (0): LeakyReLU(negative_slope=0.1)\n",
              "              (1): Conv1d(32, 32, kernel_size=(3,), stride=(1,), padding=(1,))\n",
              "            )\n",
              "            (1): Sequential(\n",
              "              (0): LeakyReLU(negative_slope=0.1)\n",
              "              (1): Conv1d(32, 32, kernel_size=(3,), stride=(1,), padding=(1,))\n",
              "            )\n",
              "            (2): Sequential(\n",
              "              (0): LeakyReLU(negative_slope=0.1)\n",
              "              (1): Conv1d(32, 32, kernel_size=(3,), stride=(1,), padding=(1,))\n",
              "            )\n",
              "          )\n",
              "        )\n",
              "        (10): HiFiGANResidualBlock(\n",
              "          (convs1): ModuleList(\n",
              "            (0): Sequential(\n",
              "              (0): LeakyReLU(negative_slope=0.1)\n",
              "              (1): Conv1d(32, 32, kernel_size=(7,), stride=(1,), padding=(3,))\n",
              "            )\n",
              "            (1): Sequential(\n",
              "              (0): LeakyReLU(negative_slope=0.1)\n",
              "              (1): Conv1d(32, 32, kernel_size=(7,), stride=(1,), padding=(9,), dilation=(3,))\n",
              "            )\n",
              "            (2): Sequential(\n",
              "              (0): LeakyReLU(negative_slope=0.1)\n",
              "              (1): Conv1d(32, 32, kernel_size=(7,), stride=(1,), padding=(15,), dilation=(5,))\n",
              "            )\n",
              "          )\n",
              "          (convs2): ModuleList(\n",
              "            (0): Sequential(\n",
              "              (0): LeakyReLU(negative_slope=0.1)\n",
              "              (1): Conv1d(32, 32, kernel_size=(7,), stride=(1,), padding=(3,))\n",
              "            )\n",
              "            (1): Sequential(\n",
              "              (0): LeakyReLU(negative_slope=0.1)\n",
              "              (1): Conv1d(32, 32, kernel_size=(7,), stride=(1,), padding=(3,))\n",
              "            )\n",
              "            (2): Sequential(\n",
              "              (0): LeakyReLU(negative_slope=0.1)\n",
              "              (1): Conv1d(32, 32, kernel_size=(7,), stride=(1,), padding=(3,))\n",
              "            )\n",
              "          )\n",
              "        )\n",
              "        (11): HiFiGANResidualBlock(\n",
              "          (convs1): ModuleList(\n",
              "            (0): Sequential(\n",
              "              (0): LeakyReLU(negative_slope=0.1)\n",
              "              (1): Conv1d(32, 32, kernel_size=(11,), stride=(1,), padding=(5,))\n",
              "            )\n",
              "            (1): Sequential(\n",
              "              (0): LeakyReLU(negative_slope=0.1)\n",
              "              (1): Conv1d(32, 32, kernel_size=(11,), stride=(1,), padding=(15,), dilation=(3,))\n",
              "            )\n",
              "            (2): Sequential(\n",
              "              (0): LeakyReLU(negative_slope=0.1)\n",
              "              (1): Conv1d(32, 32, kernel_size=(11,), stride=(1,), padding=(25,), dilation=(5,))\n",
              "            )\n",
              "          )\n",
              "          (convs2): ModuleList(\n",
              "            (0): Sequential(\n",
              "              (0): LeakyReLU(negative_slope=0.1)\n",
              "              (1): Conv1d(32, 32, kernel_size=(11,), stride=(1,), padding=(5,))\n",
              "            )\n",
              "            (1): Sequential(\n",
              "              (0): LeakyReLU(negative_slope=0.1)\n",
              "              (1): Conv1d(32, 32, kernel_size=(11,), stride=(1,), padding=(5,))\n",
              "            )\n",
              "            (2): Sequential(\n",
              "              (0): LeakyReLU(negative_slope=0.1)\n",
              "              (1): Conv1d(32, 32, kernel_size=(11,), stride=(1,), padding=(5,))\n",
              "            )\n",
              "          )\n",
              "        )\n",
              "      )\n",
              "      (output_conv): Sequential(\n",
              "        (0): LeakyReLU(negative_slope=0.01)\n",
              "        (1): Conv1d(32, 1, kernel_size=(7,), stride=(1,), padding=(3,))\n",
              "        (2): Tanh()\n",
              "      )\n",
              "    )\n",
              "  )\n",
              ")"
            ]
          },
          "metadata": {},
          "execution_count": 11
        }
      ]
    },
    {
      "cell_type": "code",
      "source": [
        "import glob\n",
        "import os\n",
        "import numpy as np\n",
        "import kaldiio\n",
        "\n",
        "# Get model directory path\n",
        "from espnet_model_zoo.downloader import ModelDownloader\n",
        "d = ModelDownloader()\n",
        "model_dir = os.path.dirname(d.download_and_unpack(model_tag)[\"train_config\"])\n",
        "\n",
        "# X-vector selection\n",
        "# We only need the x-vector part at that's what this model uses. The ones with \n",
        "spembs = None\n",
        "if text2speech.use_spembs:\n",
        "  xvector_ark = [p for p in glob.glob(f\"{model_dir}/../../dump/**/spk_xvector.ark\", recursive=True) if \"tr\" in p][0]\n",
        "  xvectors = {k: v for k, v in kaldiio.load_ark(xvector_ark)}\n",
        "  spks = list(xvectors.keys())"
      ],
      "metadata": {
        "id": "T-1QugLj-7xZ"
      },
      "execution_count": null,
      "outputs": []
    },
    {
      "cell_type": "code",
      "source": [
        "from netdissect import tally\n",
        "x = \"Please call Stella. Ask her too.\"\n",
        "\n",
        "# To collect stats, define a function that returns 2d [samples, units]\n",
        "def compute_samples(index):\n",
        "    # print(index)\n",
        "    spk = spks[int(index[0])]\n",
        "    spembs = xvectors[spk]\n",
        "    wav = text2speech(x, spembs=spembs)[\"wav\"]\n",
        "    acts = text2speech.vocoder.retained_layer(layer)\n",
        "    acts = torch.flatten(acts, start_dim=1)\n",
        "    acts_stack = acts\n",
        "    # print(acts.shape)\n",
        "    # print(acts)\n",
        "    # acts_stack = acts[0]\n",
        "\n",
        "    for i in index[1:]:\n",
        "      spk = spks[int(i)]\n",
        "      spembs = xvectors[spk]\n",
        "      wav = text2speech(x, spembs=spembs)[\"wav\"]\n",
        "      # acts = model.retained_layer('layer4') # get the activations, and flatten\n",
        "      acts = text2speech.vocoder.retained_layer(layer)\n",
        "      # print(acts[0].shape)\n",
        "      # print(acts)\n",
        "      acts = torch.flatten(acts, start_dim=1)\n",
        "\n",
        "      acts_stack = torch.cat((acts_stack, acts), 0)\n",
        "      # print(acts_stack.shape)\n",
        "    return acts_stack\n",
        "\n",
        "\n",
        "from torch.utils.data import TensorDataset\n",
        "# Define our batch of inputs to the model\n",
        "# zds = TensorDataset(torch.linspace(0, 49, 50))\n",
        "# this also works\n",
        "zds = torch.linspace(0, 107, 108)\n",
        "\n",
        "# Then tally_quantile will run your function over the whole dataset to collect quantile stats\n",
        "# rq = tally.tally_quantile(compute_samples, zds, batch_size=10)\n",
        "\n",
        "# Print out the median value for the first 20 channels\n",
        "# print(rq.quantiles(0.9)[:20])\n",
        "# print(rq.mean())"
      ],
      "metadata": {
        "id": "RL7ZU-2UkKF0"
      },
      "execution_count": null,
      "outputs": []
    },
    {
      "cell_type": "code",
      "source": [
        "# print(rq.quantiles(1)[:20])"
      ],
      "metadata": {
        "id": "_zwxMn-nneXz"
      },
      "execution_count": null,
      "outputs": []
    },
    {
      "cell_type": "code",
      "source": [
        "# Then tally_quantile will run your function over the whole dataset to collect quantile stats\n",
        "rq = tally.tally_quantile(compute_samples, zds, batch_size=10)\n",
        "\n",
        "# Print out the median value for the first 20 channels\n",
        "print(rq.quantiles(0.99).shape)"
      ],
      "metadata": {
        "colab": {
          "base_uri": "https://localhost:8080/"
        },
        "id": "6X8Ol4nFJS2Z",
        "outputId": "8ebfd6f6-9064-4717-aa88-a1a08b5696a4"
      },
      "execution_count": null,
      "outputs": [
        {
          "output_type": "stream",
          "name": "stderr",
          "text": [
            "\r  0%|          | 0/11 [00:00<?, ?it/s]/usr/local/lib/python3.7/dist-packages/espnet2/torch_utils/device_funcs.py:29: UserWarning: The given NumPy array is not writable, and PyTorch does not support non-writable tensors. This means writing to this tensor will result in undefined behavior. You may want to copy the array to protect its data or make it writable before converting it to a tensor. This type of warning will be suppressed for the rest of this program. (Triggered internally at  ../torch/csrc/utils/tensor_numpy.cpp:172.)\n",
            "  return to_device(torch.from_numpy(data), device, dtype, non_blocking, copy)\n"
          ]
        },
        {
          "output_type": "stream",
          "name": "stdout",
          "text": [
            "torch.Size([640000])\n"
          ]
        }
      ]
    },
    {
      "cell_type": "code",
      "source": [
        "topk = tally.tally_topk(compute_samples, zds)\n",
        "topk.result()[1].shape"
      ],
      "metadata": {
        "colab": {
          "base_uri": "https://localhost:8080/"
        },
        "id": "YEPMIw9XhrNA",
        "outputId": "a6c7ca99-6949-47ab-8d17-0d8bc06a4863"
      },
      "execution_count": null,
      "outputs": [
        {
          "output_type": "stream",
          "name": "stderr",
          "text": []
        },
        {
          "output_type": "execute_result",
          "data": {
            "text/plain": [
              "torch.Size([640000, 100])"
            ]
          },
          "metadata": {},
          "execution_count": 17
        }
      ]
    },
    {
      "cell_type": "code",
      "source": [
        "text2speech.vocoder.retained_layer(layer).shape"
      ],
      "metadata": {
        "id": "YLCLh5tn5Pc7",
        "colab": {
          "base_uri": "https://localhost:8080/"
        },
        "outputId": "966fd0dd-6588-4326-af04-48bf3effe9ad"
      },
      "execution_count": null,
      "outputs": [
        {
          "output_type": "execute_result",
          "data": {
            "text/plain": [
              "torch.Size([1, 64, 10000])"
            ]
          },
          "metadata": {},
          "execution_count": 18
        }
      ]
    },
    {
      "cell_type": "code",
      "source": [
        "topk.result()[1]"
      ],
      "metadata": {
        "id": "uVj6n0SImK4P",
        "colab": {
          "base_uri": "https://localhost:8080/"
        },
        "outputId": "761c9e50-93ee-481f-c8e2-5efe1dbec536"
      },
      "execution_count": null,
      "outputs": [
        {
          "output_type": "execute_result",
          "data": {
            "text/plain": [
              "tensor([[ 86,  60,  30,  ...,  41,  70,  80],\n",
              "        [  5,   7,  86,  ...,  82,  39,  70],\n",
              "        [ 84,  64,  47,  ...,  73,  11,   3],\n",
              "        ...,\n",
              "        [106, 100,  73,  ...,   0,  40,  76],\n",
              "        [  2,  73,  12,  ...,  21,  29,  49],\n",
              "        [ 73,  21,  55,  ...,  60,  87,  76]])"
            ]
          },
          "metadata": {},
          "execution_count": 19
        }
      ]
    },
    {
      "cell_type": "code",
      "source": [
        "topk.result()[0]"
      ],
      "metadata": {
        "id": "TzSEAPTipuBg",
        "colab": {
          "base_uri": "https://localhost:8080/"
        },
        "outputId": "2b81eacf-19d0-4585-e93a-9300cb1475d8"
      },
      "execution_count": null,
      "outputs": [
        {
          "output_type": "execute_result",
          "data": {
            "text/plain": [
              "tensor([[ 0.1941,  0.1002,  0.0878,  ..., -0.1187, -0.1200, -0.1241],\n",
              "        [ 0.0632,  0.0357,  0.0332,  ..., -0.1659, -0.1746, -0.2119],\n",
              "        [ 0.1392,  0.1036,  0.0937,  ..., -0.1029, -0.1084, -0.1086],\n",
              "        ...,\n",
              "        [ 0.4882,  0.2381,  0.2354,  ..., -0.7959, -0.8179, -0.8634],\n",
              "        [ 0.6458,  0.6365,  0.2294,  ..., -0.7113, -0.7311, -0.7638],\n",
              "        [ 0.9551,  0.6887,  0.5152,  ..., -0.7208, -0.7316, -0.7436]])"
            ]
          },
          "metadata": {},
          "execution_count": 20
        }
      ]
    },
    {
      "cell_type": "code",
      "source": [
        "southern_units = {0, 3, 4, 6, 7, 14, 30, 31, 41}\n",
        "s_african_units = {82, 86, 93, 99}\n",
        "indian = {21, 24, 107}\n",
        "scottish = {9, 11, 15, 19, 20, 22, 25, 28, 33, 35, 36, 37, 38, 44, 45, 48, 54, 57, 58}\n",
        "irish = {18, 39, 56, 61, 65, 67, 81, 95, 105}\n",
        "dublin = {18, 61, 65, 95}\n",
        "n_irish = {12, 34, 62, 63, 73, 100}\n",
        "belfast = {12, 34, 62, 63, 73}\n",
        "cali = {64, 68, 69, 85}\n",
        "yorkshire = {40, 43, 60}\n",
        "NE = {42, 50, 55, 59}\n",
        "canada = {71, 72, 76, 80, 83, 84, 97, 104}\n",
        "\n",
        "female = {0, 3,4,5,6, 8, 9, 10, 12, 13, 14, 17, 21, 22, 23, 26, 30, 34, 35, 37, 38, 39, 40, 41, 42, 49, 50, 53, 55, 56, 61, 63, 64, 65, 66, 68, 69, 70, 72, 74, 75, 76, 77, 78, 80, 81,82, 84, 85, 86, 88, 89, 90, 92,93,94,95,96,97, 100, 102,103}\n",
        "male = {1, 2, 7, 11, 15, 16, 18, 19, 20, 24, 25, 27, 28, 29, 31, 32, 33, 36, 43, 44, 45, 46, 47, 48, 51, 52, 54, 57, 58, 59, 60, 62, 67, 71, 73, 79, 83, 87, 91, 98, 99, 101, 104, 105, 106, 107}"
      ],
      "metadata": {
        "id": "-UvrIRQx1lCX"
      },
      "execution_count": null,
      "outputs": []
    },
    {
      "cell_type": "code",
      "source": [
        "# selecting the first 5 indices from the first row / unit\n",
        "top = topk.result()[1][0][0:5]\n",
        "print(top)\n",
        "# casting from tensor to set \n",
        "top = set(top.tolist())\n",
        "\n",
        "# calculating IoU\n",
        "num = top.intersection(southern_units)\n",
        "print(num)\n",
        "den = top.union(southern_units)\n",
        "print(den)\n",
        "IoU = len(num) / len(den)\n",
        "print(IoU)"
      ],
      "metadata": {
        "id": "k3zqnOrvS1ug",
        "colab": {
          "base_uri": "https://localhost:8080/"
        },
        "outputId": "0c0b3366-26ca-4440-cd32-4deea56bbef8"
      },
      "execution_count": null,
      "outputs": [
        {
          "output_type": "stream",
          "name": "stdout",
          "text": [
            "tensor([86, 60, 30, 78, 43])\n",
            "{30}\n",
            "{0, 3, 4, 6, 7, 41, 43, 78, 14, 86, 60, 30, 31}\n",
            "0.07692307692307693\n"
          ]
        }
      ]
    },
    {
      "cell_type": "code",
      "source": [
        "# Quick method\n",
        "# iterating st we can calculate the IoU for all units in the layer\n",
        "IoU_list = []\n",
        "chosen_property = male\n",
        "result = topk.result()[1]\n",
        "result = result.tolist()\n",
        "# len(result)\n",
        "\n",
        "for i in range(0, topk.result()[1].shape[0]):\n",
        "  top = result[i][0:5]\n",
        "  top = set(top)\n",
        "  num = top.intersection(chosen_property)\n",
        "  den = top.union(chosen_property)\n",
        "  IoU_list.append(len(num) / len(den))\n",
        "  # print(i)\n",
        "\n",
        "# top = set(top.tolist())\n",
        "# for i in range(0, topk.result()[1].shape[0]):\n",
        "#   num = top.intersection(southern_units)\n",
        "#   den = top.union(southern_units)\n",
        "#   IoU_list.append(len(num) / len(den))\n",
        "#   print(i)"
      ],
      "metadata": {
        "id": "ZMQFxedW3exi"
      },
      "execution_count": null,
      "outputs": []
    },
    {
      "cell_type": "code",
      "source": [
        "# same as above but to zero units\n",
        "IoU_list_z = []\n",
        "property_z = female\n",
        "\n",
        "for i in range(0, topk.result()[1].shape[0]):\n",
        "  top = result[i][0:5]\n",
        "  top = set(top)\n",
        "  num = top.intersection(property_z)\n",
        "  den = top.union(property_z)\n",
        "  IoU_list_z.append(len(num) / len(den))\n",
        "  # print(i)"
      ],
      "metadata": {
        "id": "m4IPauTcgLpm"
      },
      "execution_count": null,
      "outputs": []
    },
    {
      "cell_type": "code",
      "source": [
        "len(IoU_list)"
      ],
      "metadata": {
        "id": "ttmevsO_WqM8",
        "colab": {
          "base_uri": "https://localhost:8080/"
        },
        "outputId": "6ee46f58-6f00-42e8-a9ca-535ddb51da89"
      },
      "execution_count": null,
      "outputs": [
        {
          "output_type": "execute_result",
          "data": {
            "text/plain": [
              "640000"
            ]
          },
          "metadata": {},
          "execution_count": 27
        }
      ]
    },
    {
      "cell_type": "code",
      "source": [
        "# IoU_list"
      ],
      "metadata": {
        "id": "HY0PGAfma9uA"
      },
      "execution_count": null,
      "outputs": []
    },
    {
      "cell_type": "code",
      "source": [
        "# setting the number of units we want to change the actication to the top 1% quantile for and printing their indices\n",
        "n_units = 100000\n",
        "IoU_list = torch.tensor(IoU_list)\n",
        "top_IoU = torch.topk(IoU_list, n_units)\n",
        "# print(layer, '\\n', top_IoU, '\\n')"
      ],
      "metadata": {
        "id": "-8g9BI6-wli7",
        "colab": {
          "base_uri": "https://localhost:8080/"
        },
        "outputId": "55bcbec0-7062-4c23-97a2-9da2ddf62352"
      },
      "execution_count": null,
      "outputs": [
        {
          "output_type": "stream",
          "name": "stderr",
          "text": [
            "/usr/local/lib/python3.7/dist-packages/ipykernel_launcher.py:3: UserWarning: To copy construct from a tensor, it is recommended to use sourceTensor.clone().detach() or sourceTensor.clone().detach().requires_grad_(True), rather than torch.tensor(sourceTensor).\n",
            "  This is separate from the ipykernel package so we can avoid doing imports until\n"
          ]
        }
      ]
    },
    {
      "cell_type": "code",
      "source": [
        "# setting the number of units we want to change the activations of to 0 and printing their indices\n",
        "n_units_z = 100000\n",
        "IoU_list_z = torch.tensor(IoU_list_z)\n",
        "top_IoU_z = torch.topk(IoU_list_z, n_units_z)\n",
        "print(layer, '\\n', top_IoU_z, '\\n')"
      ],
      "metadata": {
        "id": "h3oehcdug7O4",
        "colab": {
          "base_uri": "https://localhost:8080/"
        },
        "outputId": "6912eb32-fd9f-4f74-c5b3-453426b2b84c"
      },
      "execution_count": null,
      "outputs": [
        {
          "output_type": "stream",
          "name": "stdout",
          "text": [
            "vocoder.blocks.7.convs1.2.1 \n",
            " torch.return_types.topk(\n",
            "values=tensor([0.0806, 0.0806, 0.0806,  ..., 0.0635, 0.0635, 0.0635]),\n",
            "indices=tensor([233918, 311715, 311714,  ..., 244517, 244518, 546926])) \n",
            "\n"
          ]
        },
        {
          "output_type": "stream",
          "name": "stderr",
          "text": [
            "/usr/local/lib/python3.7/dist-packages/ipykernel_launcher.py:3: UserWarning: To copy construct from a tensor, it is recommended to use sourceTensor.clone().detach() or sourceTensor.clone().detach().requires_grad_(True), rather than torch.tensor(sourceTensor).\n",
            "  This is separate from the ipykernel package so we can avoid doing imports until\n"
          ]
        }
      ]
    },
    {
      "cell_type": "code",
      "source": [
        "# top_IoU[1][1]"
      ],
      "metadata": {
        "id": "vtzBOB_hDl9i"
      },
      "execution_count": null,
      "outputs": []
    },
    {
      "cell_type": "code",
      "source": [
        "# defining functions to get the unit's index from the number layer and its index from topk\n",
        "def index_map(layer1, idx):\n",
        "    div = text2speech.vocoder.retained_layer(layer1).shape[2]\n",
        "    first = idx//div\n",
        "    second = idx%div\n",
        "    return [0, first, second]\n",
        "\n",
        "\n",
        "# index_map_list(layer, top_IoU[1].numpy())"
      ],
      "metadata": {
        "id": "fygAjW4E-XSO"
      },
      "execution_count": null,
      "outputs": []
    },
    {
      "cell_type": "code",
      "source": [
        "# function to set units to the top 1% quantile\n",
        "def change_units(data, model):\n",
        "    for i in range(0, n_units_z):\n",
        "      temp = index_map(layer, top_IoU_z[1][i])\n",
        "      data[0, temp[1], temp[2]] = 0\n",
        "\n",
        "    quant = rq.quantiles(0.99)\n",
        "    for i in range(0, n_units):\n",
        "      temp = index_map(layer, top_IoU[1][i])\n",
        "      data[0, temp[1], temp[2]] = quant[top_IoU[1][i]]\n",
        "\n",
        "    return data\n",
        "\n",
        "# setting units to top 1%\n",
        "text2speech.vocoder.edit_layer(layer, rule=change_units)\n",
        "\n",
        "\n",
        "# # function to set units to 0\n",
        "# def zero_units(data, model):\n",
        "#     for i in range(0, n_units_z):\n",
        "#       temp = index_map(layer, top_IoU_z[1][i])\n",
        "#       data[0, temp[1], temp[2]] = 0\n",
        "\n",
        "#     return data\n",
        "\n",
        "# setting units to top 1%\n",
        "# text2speech.vocoder.edit_layer(layer, rule=zero_units)"
      ],
      "metadata": {
        "id": "ZSpxxaAFxhoG"
      },
      "execution_count": null,
      "outputs": []
    },
    {
      "cell_type": "code",
      "source": [
        "spk = spks[10]\n",
        "spembs = xvectors[spk]\n",
        "print(f\"selected spk: {spk}\")"
      ],
      "metadata": {
        "id": "H99_WrL5AMoj",
        "colab": {
          "base_uri": "https://localhost:8080/"
        },
        "outputId": "6fc02441-d720-4809-83b3-c7b19b6afc8b"
      },
      "execution_count": null,
      "outputs": [
        {
          "output_type": "stream",
          "name": "stdout",
          "text": [
            "selected spk: p236\n"
          ]
        }
      ]
    },
    {
      "cell_type": "code",
      "source": [
        "import soundfile as sf\n",
        "import time\n",
        "# x = \"Please call Stella. Ask her to bring these things with her from the store:  Six spoons of fresh snow peas, five thick slabs of blue cheese, and maybe a snack for her brother Bob.  We also need a small plastic snake and a big toy frog for the kids.  She can scoop these things into three red bags, and we will go meet her Wednesday at the train station.\"\n",
        "x = \"Please call Stella.  Ask her too.\"\n",
        "# __call__\n",
        "wav = text2speech(x, spembs=spembs)[\"wav\"]\n",
        "# print(text2speech(x, spembs=spembs)[\"feat_gen\"].shape)\n",
        "# print(text2speech(x, spembs=spembs)[\"feat_gen_denorm\"].shape)\n",
        "\n",
        "sf.write(\"out.wav\", wav.numpy(), 24000, \"PCM_16\")\n",
        "\n",
        "# Display the audio file below\n",
        "from IPython.display import display, Audio\n",
        "display(Audio(wav.view(-1).cpu().numpy(), rate=24000))"
      ],
      "metadata": {
        "id": "ftrSC8cZACsv",
        "colab": {
          "base_uri": "https://localhost:8080/",
          "height": 106
        },
        "outputId": "6627b425-760d-411b-95f4-6657078ff5ff"
      },
      "execution_count": null,
      "outputs": [
        {
          "output_type": "stream",
          "name": "stderr",
          "text": [
            "/usr/local/lib/python3.7/dist-packages/ipykernel_launcher.py:4: UserWarning: __floordiv__ is deprecated, and its behavior will change in a future version of pytorch. It currently rounds toward 0 (like the 'trunc' function NOT 'floor'). This results in incorrect rounding for negative values. To keep the current behavior, use torch.div(a, b, rounding_mode='trunc'), or for actual floor division, use torch.div(a, b, rounding_mode='floor').\n",
            "  after removing the cwd from sys.path.\n"
          ]
        },
        {
          "output_type": "display_data",
          "data": {
            "text/plain": [
              "<IPython.lib.display.Audio object>"
            ],
            "text/html": [
              "\n",
              "                <audio  controls=\"controls\" >\n",
              "                    <source src=\"data:audio/wav;base64,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\" type=\"audio/wav\" />\n",
              "                    Your browser does not support the audio element.\n",
              "                </audio>\n",
              "              "
            ]
          },
          "metadata": {}
        }
      ]
    },
    {
      "cell_type": "code",
      "source": [
        "text2speech.vocoder.remove_edits()"
      ],
      "metadata": {
        "id": "AuKV2b-ZmkWK"
      },
      "execution_count": null,
      "outputs": []
    },
    {
      "cell_type": "code",
      "source": [
        "x = \"Please call Stella.  Ask her too.\"\n",
        "# __call__\n",
        "wav = text2speech(x, spembs=spembs)[\"wav\"]\n",
        "# print(text2speech(x, spembs=spembs)[\"feat_gen\"].shape)\n",
        "# print(text2speech(x, spembs=spembs)[\"feat_gen_denorm\"].shape)\n",
        "\n",
        "sf.write(\"out.wav\", wav.numpy(), 24000, \"PCM_16\")\n",
        "\n",
        "# Display the audio file below\n",
        "from IPython.display import display, Audio\n",
        "display(Audio(wav.view(-1).cpu().numpy(), rate=24000))"
      ],
      "metadata": {
        "id": "TFfWv6gXAbQJ",
        "colab": {
          "base_uri": "https://localhost:8080/",
          "height": 52
        },
        "outputId": "b3aa41ce-4c90-4395-db9c-d0c356d95af7"
      },
      "execution_count": null,
      "outputs": [
        {
          "output_type": "display_data",
          "data": {
            "text/plain": [
              "<IPython.lib.display.Audio object>"
            ],
            "text/html": [
              "\n",
              "                <audio  controls=\"controls\" >\n",
              "                    <source src=\"data:audio/wav;base64,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\" type=\"audio/wav\" />\n",
              "                    Your browser does not support the audio element.\n",
              "                </audio>\n",
              "              "
            ]
          },
          "metadata": {}
        }
      ]
    },
    {
      "cell_type": "code",
      "source": [
        "# testing the units had chage to e.g. 1 when we edited them using our new function\n",
        "text2speech.vocoder.retained_layer(layer)[0][30][500:520]"
      ],
      "metadata": {
        "colab": {
          "base_uri": "https://localhost:8080/"
        },
        "id": "hbvx656gE_vX",
        "outputId": "bb198a42-563b-4b4e-834b-cd2ec0379e85"
      },
      "execution_count": null,
      "outputs": [
        {
          "output_type": "execute_result",
          "data": {
            "text/plain": [
              "tensor([1.2840, 1.4238, 1.3848, 1.6113, 1.3814, 1.5934, 1.3483, 1.4226, 1.4910,\n",
              "        1.5604, 1.4348, 1.5434, 1.4218, 1.4007, 1.4654, 1.6396, 1.3522, 1.4603,\n",
              "        1.4629, 1.5300])"
            ]
          },
          "metadata": {},
          "execution_count": 35
        }
      ]
    },
    {
      "cell_type": "code",
      "source": [
        "text2speech.vocoder.retained_layer(layer).shape"
      ],
      "metadata": {
        "id": "HK2UBTWrFbQ9",
        "colab": {
          "base_uri": "https://localhost:8080/"
        },
        "outputId": "d623fd40-8df2-48f3-edc5-3e49115ad312"
      },
      "execution_count": null,
      "outputs": [
        {
          "output_type": "execute_result",
          "data": {
            "text/plain": [
              "torch.Size([1, 64, 10000])"
            ]
          },
          "metadata": {},
          "execution_count": 36
        }
      ]
    },
    {
      "cell_type": "code",
      "source": [
        "import librosa\n",
        "\n",
        "# librosa.feature.mfcc(y=y, sr=sr)\n",
        "\n"
      ],
      "metadata": {
        "id": "BmkuEayi6cWG"
      },
      "execution_count": null,
      "outputs": []
    }
  ]
}
